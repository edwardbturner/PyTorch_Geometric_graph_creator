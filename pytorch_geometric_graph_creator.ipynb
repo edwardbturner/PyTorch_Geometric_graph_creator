{
 "cells": [
  {
   "cell_type": "code",
   "execution_count": 1,
   "id": "d767d484",
   "metadata": {},
   "outputs": [],
   "source": [
    "import pandas as pd\n",
    "import torch\n",
    "import torch_geometric.data\n",
    "from torch import Tensor"
   ]
  },
  {
   "cell_type": "code",
   "execution_count": 2,
   "id": "280af502",
   "metadata": {},
   "outputs": [],
   "source": [
    "# This creates the edge index and the associated weights\n",
    "\n",
    "df_1 = pd.read_excel('excel_example.xls', sheet_name='adjacency_matrix')\n",
    "\n",
    "start_node = []\n",
    "end_node = []\n",
    "weight = []\n",
    "\n",
    "for i in range(len(df_1)):\n",
    "    s = df_1[i]\n",
    "    for j in range(len(df_1)):\n",
    "        val = float(s[j])\n",
    "        if val != 0.0:\n",
    "            start_node.append(j)\n",
    "            end_node.append(i)\n",
    "            weight.append(val)\n",
    "\n",
    "edge_index = torch.tensor([start_node, end_node])\n",
    "\n",
    "\n",
    "if weight == [1]*(len(start_node)):\n",
    "    edge_weight = None\n",
    "else:\n",
    "    edge_weight = torch.tensor(weight)"
   ]
  },
  {
   "cell_type": "code",
   "execution_count": 3,
   "id": "f1985f3c",
   "metadata": {},
   "outputs": [],
   "source": [
    "# This creates the node features\n",
    "\n",
    "df_2 = pd.read_excel('excel_example.xls', sheet_name='node_features')\n",
    "\n",
    "features = []\n",
    "\n",
    "for i in range(len(df_1)):    \n",
    "    list = df_2[i].tolist()\n",
    "    if list != []:\n",
    "        features.append(list) \n",
    "    \n",
    "if features == []:\n",
    "    x = None\n",
    "else:\n",
    "    x = torch.tensor(features)"
   ]
  },
  {
   "cell_type": "code",
   "execution_count": 4,
   "id": "9b2ef383",
   "metadata": {},
   "outputs": [],
   "source": [
    "# This creates the node labels\n",
    "\n",
    "df_3 = pd.read_excel('excel_example.xls', sheet_name='node_labels')\n",
    "\n",
    "labels = []\n",
    "\n",
    "for i in range(len(df_1)):    \n",
    "    list = df_3[i].tolist()\n",
    "    if list != []:\n",
    "        labels.append(list[0]) \n",
    "    \n",
    "if labels == []:\n",
    "    y = None\n",
    "else:\n",
    "    y = torch.tensor(labels)"
   ]
  },
  {
   "cell_type": "code",
   "execution_count": 5,
   "id": "2622c17a",
   "metadata": {},
   "outputs": [],
   "source": [
    "from torch_geometric.data import Data\n",
    "data = Data(x=x, y=y, edge_index=edge_index, edge_weight=edge_weight, num_nodes=len(df_1))"
   ]
  },
  {
   "cell_type": "code",
   "execution_count": 6,
   "id": "838af09f",
   "metadata": {},
   "outputs": [],
   "source": [
    "torch.save(data, './pytorch_geometric_graph')"
   ]
  }
 ],
 "metadata": {
  "kernelspec": {
   "display_name": "Python 3 (ipykernel)",
   "language": "python",
   "name": "python3"
  },
  "language_info": {
   "codemirror_mode": {
    "name": "ipython",
    "version": 3
   },
   "file_extension": ".py",
   "mimetype": "text/x-python",
   "name": "python",
   "nbconvert_exporter": "python",
   "pygments_lexer": "ipython3",
   "version": "3.8.11"
  }
 },
 "nbformat": 4,
 "nbformat_minor": 5
}
